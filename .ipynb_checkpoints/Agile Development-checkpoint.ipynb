{
 "cells": [
  {
   "cell_type": "markdown",
   "metadata": {},
   "source": [
    "# Agile   (small intro)"
   ]
  },
  {
   "cell_type": "markdown",
   "metadata": {},
   "source": [
    "<ul>\n",
    "    <li>It is an iterative process in which you deliver value through a basic solution and then enhance it over time.</li>\n",
    "    <li>You deliver quickly and you deliver often.</li>\n",
    "</ul>"
   ]
  },
  {
   "cell_type": "markdown",
   "metadata": {},
   "source": [
    "<img src=\"https://blog.crisp.se/wp-content/uploads/2016/01/Making-sense-of-MVP-.jpg\"></img>\n",
    "<strong style=\"color:red\"><li>Is it better to have a skateboard while you build a car ??</li></strong>\n",
    "<li>In agile we call the period of time between project task completion \"SPRINTS\".</li>\n",
    "<li>Key concept in agile : Keep it simple.\n",
    "    <li stlye=\"color:red\">MINIMAL VIABLE PRODUCT !</li>\n",
    "</li>"
   ]
  },
  {
   "cell_type": "markdown",
   "metadata": {},
   "source": [
    "## Traditional project delivery"
   ]
  },
  {
   "cell_type": "markdown",
   "metadata": {},
   "source": [
    "\n",
    "<img src=\"https://www.researchgate.net/profile/Mehdi-Or-Mahdi-Javanmard/publication/278300889/figure/fig1/AS:669480740990990@1536628055795/Traditional-project-management-delivery-4.png\"></img>\n",
    "<h3 style=\"text-align:center\">One off activities.</h3>"
   ]
  },
  {
   "cell_type": "markdown",
   "metadata": {},
   "source": [
    "## In agile we would test from the very beginning "
   ]
  },
  {
   "cell_type": "markdown",
   "metadata": {},
   "source": [
    "<li>Deliver iteratively often and quickly.</li>\n",
    "<li>Analysis, Design , coding and testing are continuous activities.</li>\n",
    "<li>Agile focuses on the actual work than the documentation</li>\n",
    "<li>Priorities can change for each SPRINT as per requirement.</li>"
   ]
  },
  {
   "cell_type": "markdown",
   "metadata": {},
   "source": [
    "## Agile Principles "
   ]
  },
  {
   "cell_type": "markdown",
   "metadata": {},
   "source": [
    "\n",
    "<img src=\"https://a.storyblok.com/f/86602/720x734/c1daee8849/twelve-principles-of-agile-methodology-1.jpg\"/>"
   ]
  },
  {
   "cell_type": "markdown",
   "metadata": {},
   "source": [
    "#  END "
   ]
  }
 ],
 "metadata": {
  "kernelspec": {
   "display_name": "Python 3",
   "language": "python",
   "name": "python3"
  },
  "language_info": {
   "codemirror_mode": {
    "name": "ipython",
    "version": 3
   },
   "file_extension": ".py",
   "mimetype": "text/x-python",
   "name": "python",
   "nbconvert_exporter": "python",
   "pygments_lexer": "ipython3",
   "version": "3.8.5"
  }
 },
 "nbformat": 4,
 "nbformat_minor": 4
}
